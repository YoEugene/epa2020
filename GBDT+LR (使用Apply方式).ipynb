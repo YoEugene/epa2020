{
 "cells": [
  {
   "cell_type": "code",
   "execution_count": 82,
   "metadata": {},
   "outputs": [],
   "source": [
    "import numpy as np # 快速操作结构数组的工具\n",
    "import matplotlib.pyplot as plt  # 可视化绘制\n",
    "from sklearn.linear_model import LinearRegression  # 线性回归\n",
    "from sklearn.datasets import make_classification\n",
    "from sklearn.model_selection import train_test_split\n",
    "from sklearn.ensemble import GradientBoostingClassifier, RandomForestClassifier, GradientBoostingRegressor\n",
    "from sklearn.linear_model import LogisticRegression\n",
    "from sklearn.metrics import roc_auc_score,roc_curve,auc\n",
    "from sklearn.preprocessing import OneHotEncoder\n",
    "\n",
    "import pandas as pd\n",
    "\n",
    "df = pd.read_csv('./data/North/中山站/gbdt_2015_2018.csv')\n",
    "# df = df[df.columns.drop(list(df.filter(regex='AVG')))]\n",
    "# df = df[['PM25_NOW', 'PM2.5_AVG12', 'PM2.5_AVG6', 'DAY_OF_YEAR', 'PM2.5_AVG3', 'HOUR', 'PM2.5_DIVTSQR_T1', 'PM2.5_AVG72', 'PM2.5_T11', 'PM2.5_T1', 'MONTH', 'RH_T1', 'PM10_AVG72', 'NO2_AVG72', 'SO2_AVG72', 'PM2.5_DIVTSQR_T2', 'O3_AVG24', 'RH_T2', 'CH4_DIVTSQR_T1', 'O3_AVG72', 'CH4_AVG3', 'CH4_AVG72', 'PM10_AVG24', 'PM2.5_T12', 'CH4_T1', 'NO_AVG72', 'PM2.5_AVG24', 'CH4_T2', 'CO_AVG72', 'SO2_AVG12', 'AMB_TEMP_T2', 'NO_AVG24', 'SO2_AVG24', 'CH4_DIVTSQR_T2', 'WIND_SPEED_T1', 'NOx_AVG72', 'AMB_TEMP_T1', 'AMB_TEMP_T3', 'RH_T4', 'AMB_TEMP_T12', 'CO_AVG24', 'PM2.5_DIVTSQR_T10', 'WEEKDAY', 'THC_AVG12', 'NOx_AVG24', 'RH_T12', 'AMB_TEMP_T10', 'O3_AVG12', 'AMB_TEMP_T5', 'AMB_TEMP_T11', 'CH4_AVG6', 'PM2.5_T10', 'CH4_AVG24', 'RH_T3', 'THC_AVG72', 'NO2_AVG24', 'SO2_AVG6', 'WS_HR_T1', 'CH4_AVG12', 'PM10_AVG12', 'NO2_AVG12', 'CO_T14', 'PM10_AVG6', 'PM10_T1', 'PM10_T12', 'O3_T27', 'PM2.5_T36', 'AMB_TEMP_T4', 'RH_T11', 'NO_AVG12', 'PM10_T26', 'NMHC_AVG72', 'PM10_T27', 'O3_AVG3', 'WD_HR_T1', 'PM10_T35', 'PM2.5_T35', 'SO2_AVG3', 'THC_T1', 'RH_T10', 'RH_T9', 'WIND_SPEED_T3', 'PM10_T21', 'AMB_TEMP_T8', 'CH4_T3', 'CO_AVG12', 'PM2.5_T13', 'PM2.5_DIVTSQR_T12', 'AMB_TEMP_T9', 'PM2.5_T33', 'PM2.5_T4', 'SO2_T33', 'O3_AVG6', 'THC_AVG24', 'NO2_T34', 'NO2_T36', 'NOx_AVG12', 'PM10_T36', 'PM10_T34', 'PM10_DIVTSQR_T1', 'RH_T7', 'AMB_TEMP_T6', 'PM10_AVG3', 'O3_T13', 'SO2_T1', 'SO2_T36', 'NO2_T13', 'RH_T5', 'NO_T21', 'PM10_T31', 'NMHC_AVG24', 'O3_T28', 'O3_DIVTSQR_T1', 'AMB_TEMP_T7', 'PM10_T28', 'SO2_DIVTSQR_T1', 'SO2_T23', 'SO2_T32', 'NO2_AVG6', 'PM2.5_T32', 'PM10_DIVTSQR_T11', 'NMHC_AVG6', 'SO2_T31', 'PM2.5_DIVTSQR_T3', 'NO2_T16', 'SO2_T24', 'PM10_DIVTSQR_T5', 'SO2_T35', 'PM2.5_T30', 'SO2_DIVTSQR_T8', 'PM2.5_T28', 'SO2_T34', 'PM10_T24', 'WIND_DIREC_T2', 'PM2.5_DIVTSQR_T11', 'NO_T22', 'PM10_T14', 'O3_T1', 'CO_T20', 'PM10_T23', 'NO_T20', 'NO_T15', 'PM2.5_T2', 'THC_AVG6', 'PM10_T30', 'NO_AVG6', 'PM10_T11', 'SO2_T28', 'O3_T22', 'PM10_T32', 'WIND_SPEED_T2', 'SO2_T26', 'WD_HR_T3', 'PM10_T15', 'PM2.5_T27', 'O3_DIVTSQR_T4', 'PM10_T5', 'SO2_T22', 'NO2_T31', 'SO2_T15','WS_HR_T11', 'PM2.5_T24', 'WD_HR_T4', 'NO_AVG3', 'WIND_SPEED_T12', 'O3_DIVTSQR_T12', 'SO2_T21', 'PM10_T3', 'O3_T26', 'PM10_T8', 'SO2_T20', 'SO2_T13', 'O3_T15', 'PM10_DIVTSQR_T6', 'WS_HR_T2', 'O3_T29', 'PM10_T4', 'NO_T19', 'NO_T13', 'WD_HR_T12', 'NO_T24', 'SO2_DIVTSQR_T7', 'WS_HR_T8', 'O3_T25', 'CO_T13', 'SO2_T10', 'CO_T28', 'O3_T19', 'CO_T36', 'WD_HR_T7', 'PM10_T13', 'NO_T14', 'WD_HR_T11', 'SO2_T17', 'RH_T6', 'NO_T10', 'PM2.5_T15', 'PM2.5_T31', 'RH_T8', 'PM2.5_DIVTSQR_T5', 'NOx_T36']]\n",
    "\n",
    "X_train, y_train = df.drop(['PM25_NOW'], axis=1), df['PM25_NOW']\n",
    "\n",
    "df_test = pd.read_csv('./data/North/中山站/gbdt_2019.csv')\n",
    "# df_test = df_test[df_test.columns.drop(list(df_test.filter(regex='AVG')))]\n",
    "# df_test = df_test[['PM25_NOW', 'PM2.5_AVG12', 'PM2.5_AVG6', 'DAY_OF_YEAR', 'PM2.5_AVG3', 'HOUR', 'PM2.5_DIVTSQR_T1', 'PM2.5_AVG72', 'PM2.5_T11', 'PM2.5_T1', 'MONTH', 'RH_T1', 'PM10_AVG72', 'NO2_AVG72', 'SO2_AVG72', 'PM2.5_DIVTSQR_T2', 'O3_AVG24', 'RH_T2', 'CH4_DIVTSQR_T1', 'O3_AVG72', 'CH4_AVG3', 'CH4_AVG72', 'PM10_AVG24', 'PM2.5_T12', 'CH4_T1', 'NO_AVG72', 'PM2.5_AVG24', 'CH4_T2', 'CO_AVG72', 'SO2_AVG12', 'AMB_TEMP_T2', 'NO_AVG24', 'SO2_AVG24', 'CH4_DIVTSQR_T2', 'WIND_SPEED_T1', 'NOx_AVG72', 'AMB_TEMP_T1', 'AMB_TEMP_T3', 'RH_T4', 'AMB_TEMP_T12', 'CO_AVG24', 'PM2.5_DIVTSQR_T10', 'WEEKDAY', 'THC_AVG12', 'NOx_AVG24', 'RH_T12', 'AMB_TEMP_T10', 'O3_AVG12', 'AMB_TEMP_T5', 'AMB_TEMP_T11', 'CH4_AVG6', 'PM2.5_T10', 'CH4_AVG24', 'RH_T3', 'THC_AVG72', 'NO2_AVG24', 'SO2_AVG6', 'WS_HR_T1', 'CH4_AVG12', 'PM10_AVG12', 'NO2_AVG12', 'CO_T14', 'PM10_AVG6', 'PM10_T1', 'PM10_T12', 'O3_T27', 'PM2.5_T36', 'AMB_TEMP_T4', 'RH_T11', 'NO_AVG12', 'PM10_T26', 'NMHC_AVG72', 'PM10_T27', 'O3_AVG3', 'WD_HR_T1', 'PM10_T35', 'PM2.5_T35', 'SO2_AVG3', 'THC_T1', 'RH_T10', 'RH_T9', 'WIND_SPEED_T3', 'PM10_T21', 'AMB_TEMP_T8', 'CH4_T3', 'CO_AVG12', 'PM2.5_T13', 'PM2.5_DIVTSQR_T12', 'AMB_TEMP_T9', 'PM2.5_T33', 'PM2.5_T4', 'SO2_T33', 'O3_AVG6', 'THC_AVG24', 'NO2_T34', 'NO2_T36', 'NOx_AVG12', 'PM10_T36', 'PM10_T34', 'PM10_DIVTSQR_T1', 'RH_T7', 'AMB_TEMP_T6', 'PM10_AVG3', 'O3_T13', 'SO2_T1', 'SO2_T36', 'NO2_T13', 'RH_T5', 'NO_T21', 'PM10_T31', 'NMHC_AVG24', 'O3_T28', 'O3_DIVTSQR_T1', 'AMB_TEMP_T7', 'PM10_T28', 'SO2_DIVTSQR_T1', 'SO2_T23', 'SO2_T32', 'NO2_AVG6', 'PM2.5_T32', 'PM10_DIVTSQR_T11', 'NMHC_AVG6', 'SO2_T31', 'PM2.5_DIVTSQR_T3', 'NO2_T16', 'SO2_T24', 'PM10_DIVTSQR_T5', 'SO2_T35', 'PM2.5_T30', 'SO2_DIVTSQR_T8', 'PM2.5_T28', 'SO2_T34', 'PM10_T24', 'WIND_DIREC_T2', 'PM2.5_DIVTSQR_T11', 'NO_T22', 'PM10_T14', 'O3_T1', 'CO_T20', 'PM10_T23', 'NO_T20', 'NO_T15', 'PM2.5_T2', 'THC_AVG6', 'PM10_T30', 'NO_AVG6', 'PM10_T11', 'SO2_T28', 'O3_T22', 'PM10_T32', 'WIND_SPEED_T2', 'SO2_T26', 'WD_HR_T3', 'PM10_T15', 'PM2.5_T27', 'O3_DIVTSQR_T4', 'PM10_T5', 'SO2_T22', 'NO2_T31', 'SO2_T15','WS_HR_T11', 'PM2.5_T24', 'WD_HR_T4', 'NO_AVG3', 'WIND_SPEED_T12', 'O3_DIVTSQR_T12', 'SO2_T21', 'PM10_T3', 'O3_T26', 'PM10_T8', 'SO2_T20', 'SO2_T13', 'O3_T15', 'PM10_DIVTSQR_T6', 'WS_HR_T2', 'O3_T29', 'PM10_T4', 'NO_T19', 'NO_T13', 'WD_HR_T12', 'NO_T24', 'SO2_DIVTSQR_T7', 'WS_HR_T8', 'O3_T25', 'CO_T13', 'SO2_T10', 'CO_T28', 'O3_T19', 'CO_T36', 'WD_HR_T7', 'PM10_T13', 'NO_T14', 'WD_HR_T11', 'SO2_T17', 'RH_T6', 'NO_T10', 'PM2.5_T15', 'PM2.5_T31', 'RH_T8', 'PM2.5_DIVTSQR_T5', 'NOx_T36']]\n",
    "X_test, y_test = df_test.drop(['PM25_NOW'], axis=1), df_test['PM25_NOW']"
   ]
  },
  {
   "cell_type": "code",
   "execution_count": 83,
   "metadata": {},
   "outputs": [
    {
     "data": {
      "text/html": [
       "<div>\n",
       "<style scoped>\n",
       "    .dataframe tbody tr th:only-of-type {\n",
       "        vertical-align: middle;\n",
       "    }\n",
       "\n",
       "    .dataframe tbody tr th {\n",
       "        vertical-align: top;\n",
       "    }\n",
       "\n",
       "    .dataframe thead th {\n",
       "        text-align: right;\n",
       "    }\n",
       "</style>\n",
       "<table border=\"1\" class=\"dataframe\">\n",
       "  <thead>\n",
       "    <tr style=\"text-align: right;\">\n",
       "      <th></th>\n",
       "      <th>PM2.5_T1</th>\n",
       "      <th>PM2.5_T2</th>\n",
       "      <th>PM2.5_T3</th>\n",
       "      <th>PM2.5_T4</th>\n",
       "      <th>PM2.5_T5</th>\n",
       "      <th>PM2.5_T6</th>\n",
       "      <th>PM2.5_T7</th>\n",
       "      <th>PM2.5_T8</th>\n",
       "      <th>PM2.5_T9</th>\n",
       "      <th>PM2.5_T10</th>\n",
       "      <th>...</th>\n",
       "      <th>THC_DIVTSQR_T7</th>\n",
       "      <th>THC_DIVTSQR_T8</th>\n",
       "      <th>THC_DIVTSQR_T9</th>\n",
       "      <th>THC_DIVTSQR_T10</th>\n",
       "      <th>THC_DIVTSQR_T11</th>\n",
       "      <th>THC_DIVTSQR_T12</th>\n",
       "      <th>DAY_OF_YEAR</th>\n",
       "      <th>HOUR</th>\n",
       "      <th>WEEKDAY</th>\n",
       "      <th>MONTH</th>\n",
       "    </tr>\n",
       "  </thead>\n",
       "  <tbody>\n",
       "    <tr>\n",
       "      <td>count</td>\n",
       "      <td>8676.000000</td>\n",
       "      <td>8676.000000</td>\n",
       "      <td>8676.000000</td>\n",
       "      <td>8676.000000</td>\n",
       "      <td>8676.000000</td>\n",
       "      <td>8676.000000</td>\n",
       "      <td>8676.000000</td>\n",
       "      <td>8676.000000</td>\n",
       "      <td>8676.000000</td>\n",
       "      <td>8676.000000</td>\n",
       "      <td>...</td>\n",
       "      <td>8676.000000</td>\n",
       "      <td>8676.000000</td>\n",
       "      <td>8676.000000</td>\n",
       "      <td>8676.000000</td>\n",
       "      <td>8676.000000</td>\n",
       "      <td>8676.000000</td>\n",
       "      <td>8676.000000</td>\n",
       "      <td>8676.000000</td>\n",
       "      <td>8676.000000</td>\n",
       "      <td>8676.000000</td>\n",
       "    </tr>\n",
       "    <tr>\n",
       "      <td>mean</td>\n",
       "      <td>14.463392</td>\n",
       "      <td>14.463239</td>\n",
       "      <td>14.462547</td>\n",
       "      <td>14.461971</td>\n",
       "      <td>14.461279</td>\n",
       "      <td>14.461049</td>\n",
       "      <td>14.461971</td>\n",
       "      <td>14.462662</td>\n",
       "      <td>14.463700</td>\n",
       "      <td>14.464276</td>\n",
       "      <td>...</td>\n",
       "      <td>0.040415</td>\n",
       "      <td>0.030943</td>\n",
       "      <td>0.024449</td>\n",
       "      <td>0.019804</td>\n",
       "      <td>0.016367</td>\n",
       "      <td>0.013753</td>\n",
       "      <td>183.749654</td>\n",
       "      <td>12.508299</td>\n",
       "      <td>3.001383</td>\n",
       "      <td>6.579530</td>\n",
       "    </tr>\n",
       "    <tr>\n",
       "      <td>std</td>\n",
       "      <td>9.137906</td>\n",
       "      <td>9.138020</td>\n",
       "      <td>9.138585</td>\n",
       "      <td>9.139277</td>\n",
       "      <td>9.140068</td>\n",
       "      <td>9.140307</td>\n",
       "      <td>9.139756</td>\n",
       "      <td>9.139267</td>\n",
       "      <td>9.138249</td>\n",
       "      <td>9.137621</td>\n",
       "      <td>...</td>\n",
       "      <td>0.004277</td>\n",
       "      <td>0.003275</td>\n",
       "      <td>0.002587</td>\n",
       "      <td>0.002096</td>\n",
       "      <td>0.001732</td>\n",
       "      <td>0.001455</td>\n",
       "      <td>104.362275</td>\n",
       "      <td>6.922581</td>\n",
       "      <td>2.005985</td>\n",
       "      <td>3.421346</td>\n",
       "    </tr>\n",
       "    <tr>\n",
       "      <td>min</td>\n",
       "      <td>1.000000</td>\n",
       "      <td>1.000000</td>\n",
       "      <td>1.000000</td>\n",
       "      <td>1.000000</td>\n",
       "      <td>1.000000</td>\n",
       "      <td>1.000000</td>\n",
       "      <td>1.000000</td>\n",
       "      <td>1.000000</td>\n",
       "      <td>1.000000</td>\n",
       "      <td>1.000000</td>\n",
       "      <td>...</td>\n",
       "      <td>0.029469</td>\n",
       "      <td>0.022562</td>\n",
       "      <td>0.017827</td>\n",
       "      <td>0.014440</td>\n",
       "      <td>0.011934</td>\n",
       "      <td>0.010028</td>\n",
       "      <td>3.000000</td>\n",
       "      <td>1.000000</td>\n",
       "      <td>0.000000</td>\n",
       "      <td>1.000000</td>\n",
       "    </tr>\n",
       "    <tr>\n",
       "      <td>25%</td>\n",
       "      <td>8.000000</td>\n",
       "      <td>8.000000</td>\n",
       "      <td>8.000000</td>\n",
       "      <td>8.000000</td>\n",
       "      <td>8.000000</td>\n",
       "      <td>8.000000</td>\n",
       "      <td>8.000000</td>\n",
       "      <td>8.000000</td>\n",
       "      <td>8.000000</td>\n",
       "      <td>8.000000</td>\n",
       "      <td>...</td>\n",
       "      <td>0.038776</td>\n",
       "      <td>0.029687</td>\n",
       "      <td>0.023457</td>\n",
       "      <td>0.019000</td>\n",
       "      <td>0.015702</td>\n",
       "      <td>0.013194</td>\n",
       "      <td>93.000000</td>\n",
       "      <td>7.000000</td>\n",
       "      <td>1.000000</td>\n",
       "      <td>4.000000</td>\n",
       "    </tr>\n",
       "    <tr>\n",
       "      <td>50%</td>\n",
       "      <td>13.000000</td>\n",
       "      <td>13.000000</td>\n",
       "      <td>13.000000</td>\n",
       "      <td>13.000000</td>\n",
       "      <td>13.000000</td>\n",
       "      <td>13.000000</td>\n",
       "      <td>13.000000</td>\n",
       "      <td>13.000000</td>\n",
       "      <td>13.000000</td>\n",
       "      <td>13.000000</td>\n",
       "      <td>...</td>\n",
       "      <td>0.038776</td>\n",
       "      <td>0.029687</td>\n",
       "      <td>0.023457</td>\n",
       "      <td>0.019000</td>\n",
       "      <td>0.015702</td>\n",
       "      <td>0.013194</td>\n",
       "      <td>184.000000</td>\n",
       "      <td>13.000000</td>\n",
       "      <td>3.000000</td>\n",
       "      <td>7.000000</td>\n",
       "    </tr>\n",
       "    <tr>\n",
       "      <td>75%</td>\n",
       "      <td>19.000000</td>\n",
       "      <td>19.000000</td>\n",
       "      <td>19.000000</td>\n",
       "      <td>19.000000</td>\n",
       "      <td>19.000000</td>\n",
       "      <td>19.000000</td>\n",
       "      <td>19.000000</td>\n",
       "      <td>19.000000</td>\n",
       "      <td>19.000000</td>\n",
       "      <td>19.000000</td>\n",
       "      <td>...</td>\n",
       "      <td>0.040837</td>\n",
       "      <td>0.031266</td>\n",
       "      <td>0.024704</td>\n",
       "      <td>0.020010</td>\n",
       "      <td>0.016537</td>\n",
       "      <td>0.013896</td>\n",
       "      <td>274.000000</td>\n",
       "      <td>19.000000</td>\n",
       "      <td>5.000000</td>\n",
       "      <td>10.000000</td>\n",
       "    </tr>\n",
       "    <tr>\n",
       "      <td>max</td>\n",
       "      <td>83.000000</td>\n",
       "      <td>83.000000</td>\n",
       "      <td>83.000000</td>\n",
       "      <td>83.000000</td>\n",
       "      <td>83.000000</td>\n",
       "      <td>83.000000</td>\n",
       "      <td>83.000000</td>\n",
       "      <td>83.000000</td>\n",
       "      <td>83.000000</td>\n",
       "      <td>83.000000</td>\n",
       "      <td>...</td>\n",
       "      <td>0.081633</td>\n",
       "      <td>0.062500</td>\n",
       "      <td>0.049383</td>\n",
       "      <td>0.040000</td>\n",
       "      <td>0.033058</td>\n",
       "      <td>0.027778</td>\n",
       "      <td>364.000000</td>\n",
       "      <td>24.000000</td>\n",
       "      <td>6.000000</td>\n",
       "      <td>12.000000</td>\n",
       "    </tr>\n",
       "  </tbody>\n",
       "</table>\n",
       "<p>8 rows × 660 columns</p>\n",
       "</div>"
      ],
      "text/plain": [
       "          PM2.5_T1     PM2.5_T2     PM2.5_T3     PM2.5_T4     PM2.5_T5  \\\n",
       "count  8676.000000  8676.000000  8676.000000  8676.000000  8676.000000   \n",
       "mean     14.463392    14.463239    14.462547    14.461971    14.461279   \n",
       "std       9.137906     9.138020     9.138585     9.139277     9.140068   \n",
       "min       1.000000     1.000000     1.000000     1.000000     1.000000   \n",
       "25%       8.000000     8.000000     8.000000     8.000000     8.000000   \n",
       "50%      13.000000    13.000000    13.000000    13.000000    13.000000   \n",
       "75%      19.000000    19.000000    19.000000    19.000000    19.000000   \n",
       "max      83.000000    83.000000    83.000000    83.000000    83.000000   \n",
       "\n",
       "          PM2.5_T6     PM2.5_T7     PM2.5_T8     PM2.5_T9    PM2.5_T10  ...  \\\n",
       "count  8676.000000  8676.000000  8676.000000  8676.000000  8676.000000  ...   \n",
       "mean     14.461049    14.461971    14.462662    14.463700    14.464276  ...   \n",
       "std       9.140307     9.139756     9.139267     9.138249     9.137621  ...   \n",
       "min       1.000000     1.000000     1.000000     1.000000     1.000000  ...   \n",
       "25%       8.000000     8.000000     8.000000     8.000000     8.000000  ...   \n",
       "50%      13.000000    13.000000    13.000000    13.000000    13.000000  ...   \n",
       "75%      19.000000    19.000000    19.000000    19.000000    19.000000  ...   \n",
       "max      83.000000    83.000000    83.000000    83.000000    83.000000  ...   \n",
       "\n",
       "       THC_DIVTSQR_T7  THC_DIVTSQR_T8  THC_DIVTSQR_T9  THC_DIVTSQR_T10  \\\n",
       "count     8676.000000     8676.000000     8676.000000      8676.000000   \n",
       "mean         0.040415        0.030943        0.024449         0.019804   \n",
       "std          0.004277        0.003275        0.002587         0.002096   \n",
       "min          0.029469        0.022562        0.017827         0.014440   \n",
       "25%          0.038776        0.029687        0.023457         0.019000   \n",
       "50%          0.038776        0.029687        0.023457         0.019000   \n",
       "75%          0.040837        0.031266        0.024704         0.020010   \n",
       "max          0.081633        0.062500        0.049383         0.040000   \n",
       "\n",
       "       THC_DIVTSQR_T11  THC_DIVTSQR_T12  DAY_OF_YEAR         HOUR  \\\n",
       "count      8676.000000      8676.000000  8676.000000  8676.000000   \n",
       "mean          0.016367         0.013753   183.749654    12.508299   \n",
       "std           0.001732         0.001455   104.362275     6.922581   \n",
       "min           0.011934         0.010028     3.000000     1.000000   \n",
       "25%           0.015702         0.013194    93.000000     7.000000   \n",
       "50%           0.015702         0.013194   184.000000    13.000000   \n",
       "75%           0.016537         0.013896   274.000000    19.000000   \n",
       "max           0.033058         0.027778   364.000000    24.000000   \n",
       "\n",
       "           WEEKDAY        MONTH  \n",
       "count  8676.000000  8676.000000  \n",
       "mean      3.001383     6.579530  \n",
       "std       2.005985     3.421346  \n",
       "min       0.000000     1.000000  \n",
       "25%       1.000000     4.000000  \n",
       "50%       3.000000     7.000000  \n",
       "75%       5.000000    10.000000  \n",
       "max       6.000000    12.000000  \n",
       "\n",
       "[8 rows x 660 columns]"
      ]
     },
     "execution_count": 83,
     "metadata": {},
     "output_type": "execute_result"
    }
   ],
   "source": [
    "X_test.describe()"
   ]
  },
  {
   "cell_type": "code",
   "execution_count": 84,
   "metadata": {},
   "outputs": [
    {
     "name": "stdout",
     "output_type": "stream",
     "text": [
      "      Iter       Train Loss   Remaining Time \n",
      "         1         136.7023           40.76s\n",
      "         2         131.6135           39.57s\n",
      "         3         127.2802           39.09s\n",
      "         4         123.5363           38.64s\n",
      "         5         120.5134           37.91s\n",
      "         6         117.6293           37.20s\n",
      "         7         115.3133           36.75s\n",
      "         8         113.1807           36.15s\n",
      "         9         111.1545           35.78s\n",
      "        10         109.2369           35.35s\n",
      "        20          98.1625           30.53s\n",
      "        30          93.1718           25.15s\n",
      "        40          90.0569           19.66s\n",
      "        50          87.6770           14.32s\n",
      "        60          85.6027            9.34s\n",
      "        70          83.8923            4.60s\n",
      "        80          82.4836            0.00s\n"
     ]
    },
    {
     "data": {
      "text/plain": [
       "GradientBoostingRegressor(alpha=0.9, criterion='friedman_mse', init=None,\n",
       "                          learning_rate=0.1, loss='ls', max_depth=3,\n",
       "                          max_features=None, max_leaf_nodes=None,\n",
       "                          min_impurity_decrease=0.0, min_impurity_split=None,\n",
       "                          min_samples_leaf=1, min_samples_split=2,\n",
       "                          min_weight_fraction_leaf=0.0, n_estimators=80,\n",
       "                          n_iter_no_change=None, presort='auto',\n",
       "                          random_state=None, subsample=1.0, tol=0.0001,\n",
       "                          validation_fraction=0.1, verbose=1, warm_start=False)"
      ]
     },
     "execution_count": 84,
     "metadata": {},
     "output_type": "execute_result"
    }
   ],
   "source": [
    "# 弱分类器的数目\n",
    "n_estimator = 80\n",
    "# 随机生成分类数据。\n",
    "# X, y = make_classification(n_samples=80000,n_features=20,n_classes=2)\n",
    "\n",
    "# 切分为测试集和训练集，比例0.5\n",
    "# X_train, X_test, y_train, y_test = train_test_split(X, y, test_size=0.5)\n",
    "# 将训练集切分为两部分，一部分用于训练GBDT模型，另一部分输入到训练好的GBDT模型生成GBDT特征，然后作为LR的特征。这样分成两部分是为了防止过拟合。\n",
    "X_train_gbdt, X_train_lr, y_train_gbdt, y_train_lr = train_test_split(X_train, y_train, test_size=0.5, random_state=42)\n",
    "# 调用GBDT分类模型。\n",
    "gbdt = GradientBoostingRegressor(n_estimators=n_estimator, verbose=1)\n",
    "# gbdt = GradientBoostingRegressor(verbose=1)\n",
    "# 调用one-hot编码。\n",
    "one_hot = OneHotEncoder()\n",
    "# 调用LR分类模型。\n",
    "# lr = LogisticRegression()\n",
    "lr = LinearRegression()\n",
    "\n",
    "\n",
    "'''使用X_train训练GBDT模型，后面用此模型构造特征'''\n",
    "gbdt.fit(X_train_gbdt, y_train_gbdt)\n",
    "# gbdt.fit(X_train, y_train)\n"
   ]
  },
  {
   "cell_type": "code",
   "execution_count": 85,
   "metadata": {},
   "outputs": [],
   "source": [
    "X_leaf_index = gbdt.apply(X_train_gbdt)\n",
    "# X_leaf_index = gbdt.apply(X_train)"
   ]
  },
  {
   "cell_type": "code",
   "execution_count": 86,
   "metadata": {},
   "outputs": [
    {
     "data": {
      "text/plain": [
       "(17466, 80)"
      ]
     },
     "execution_count": 86,
     "metadata": {},
     "output_type": "execute_result"
    }
   ],
   "source": [
    "np.shape(X_leaf_index)"
   ]
  },
  {
   "cell_type": "code",
   "execution_count": 87,
   "metadata": {},
   "outputs": [],
   "source": [
    "# X_leaf_index = gbdt.apply(X_train_gbdt)[:, :, 0]\n",
    "X_leaf_index = gbdt.apply(X_train_gbdt)[:, :]\n",
    "# X_leaf_index = gbdt.apply(X_train)[:, :]"
   ]
  },
  {
   "cell_type": "code",
   "execution_count": 88,
   "metadata": {},
   "outputs": [
    {
     "data": {
      "text/plain": [
       "(17466, 80)"
      ]
     },
     "execution_count": 88,
     "metadata": {},
     "output_type": "execute_result"
    }
   ],
   "source": [
    "np.shape(X_leaf_index)"
   ]
  },
  {
   "cell_type": "code",
   "execution_count": 89,
   "metadata": {},
   "outputs": [
    {
     "name": "stdout",
     "output_type": "stream",
     "text": [
      "每个样本在每个树中所属的叶子索引\n",
      " [[ 6.  7. 10. ...  4. 12.  3.]\n",
      " [ 3.  6.  4. ...  3. 12.  3.]\n",
      " [ 3.  6.  4. ...  3. 12.  3.]\n",
      " ...\n",
      " [ 4.  4.  6. ...  3. 11.  3.]\n",
      " [13. 10. 13. ...  3. 12. 11.]\n",
      " [ 3.  4.  4. ...  3. 11.  3.]]\n"
     ]
    }
   ],
   "source": [
    "X_lr_leaf_index = gbdt.apply(X_train_lr)[:, :] # apply返回每个样本在每科树中所属的叶子节点索引。行数为样本数，列数为树数目。值为在每个数的叶子索引\n",
    "# X_lr_leaf_index = gbdt.apply(X_train)[:, :] # apply返回每个样本在每科树中所属的叶子节点索引。行数为样本数，列数为树数目。值为在每个数的叶子索引\n",
    "print('每个样本在每个树中所属的叶子索引\\n',X_leaf_index)\n"
   ]
  },
  {
   "cell_type": "code",
   "execution_count": 90,
   "metadata": {},
   "outputs": [
    {
     "data": {
      "text/plain": [
       "array([[ 6.,  7., 10., ...,  4., 12.,  3.],\n",
       "       [ 3.,  6.,  4., ...,  3., 12.,  3.],\n",
       "       [ 3.,  6.,  4., ...,  3., 12.,  3.],\n",
       "       ...,\n",
       "       [ 4.,  4.,  6., ...,  3., 11.,  3.],\n",
       "       [13., 10., 13., ...,  3., 12., 11.],\n",
       "       [ 3.,  4.,  4., ...,  3., 11.,  3.]])"
      ]
     },
     "execution_count": 90,
     "metadata": {},
     "output_type": "execute_result"
    }
   ],
   "source": [
    "X_leaf_index"
   ]
  },
  {
   "cell_type": "code",
   "execution_count": 91,
   "metadata": {},
   "outputs": [
    {
     "data": {
      "text/plain": [
       "80"
      ]
     },
     "execution_count": 91,
     "metadata": {},
     "output_type": "execute_result"
    }
   ],
   "source": [
    "len(X_leaf_index[0])"
   ]
  },
  {
   "cell_type": "code",
   "execution_count": 92,
   "metadata": {},
   "outputs": [
    {
     "name": "stderr",
     "output_type": "stream",
     "text": [
      "/Users/yoeugene/anaconda3/lib/python3.6/site-packages/sklearn/preprocessing/_encoders.py:415: FutureWarning: The handling of integer data will change in version 0.22. Currently, the categories are determined based on the range [0, max(values)], while in the future they will be determined based on the unique values.\n",
      "If you want the future behaviour and silence this warning, you can specify \"categories='auto'\".\n",
      "In case you used a LabelEncoder before this OneHotEncoder to convert the categories to integers, then you can now use the OneHotEncoder directly.\n",
      "  warnings.warn(msg, FutureWarning)\n"
     ]
    }
   ],
   "source": [
    "# fit one-hot编码器\n",
    "one_hot.fit(X_leaf_index)  # 训练one-hot编码，就是识别每列有多少可取值\n",
    "X_lr_one_hot = one_hot.transform(X_lr_leaf_index)  # 将训练数据，通过gbdt树，形成的叶子节点（每个叶子代表了原始特征的一种组合）索引，编码成one0-hot特征。\n",
    "# 编码后的每个特征代表原来的一批特征的组合。\n"
   ]
  },
  {
   "cell_type": "code",
   "execution_count": 93,
   "metadata": {},
   "outputs": [],
   "source": [
    "# print(X_lr_one_hot)"
   ]
  },
  {
   "cell_type": "code",
   "execution_count": 94,
   "metadata": {},
   "outputs": [
    {
     "data": {
      "text/plain": [
       "3248     27.0\n",
       "29928    24.0\n",
       "23101     9.0\n",
       "12536    11.0\n",
       "3219     26.0\n",
       "         ... \n",
       "29653    35.0\n",
       "28574    14.0\n",
       "28951    14.0\n",
       "1983      8.0\n",
       "26921    12.0\n",
       "Name: PM25_NOW, Length: 17466, dtype: float64"
      ]
     },
     "execution_count": 94,
     "metadata": {},
     "output_type": "execute_result"
    }
   ],
   "source": [
    "y_train_lr\n",
    "# y_train"
   ]
  },
  {
   "cell_type": "code",
   "execution_count": 95,
   "metadata": {},
   "outputs": [
    {
     "name": "stdout",
     "output_type": "stream",
     "text": [
      "使用逻辑回归训练GBDT组合特征的结果\n"
     ]
    },
    {
     "data": {
      "text/plain": [
       "LinearRegression(copy_X=True, fit_intercept=True, n_jobs=None, normalize=False)"
      ]
     },
     "execution_count": 95,
     "metadata": {},
     "output_type": "execute_result"
    }
   ],
   "source": [
    "''' \n",
    "使用训练好的GBDT模型构建特征，然后将特征经过one-hot编码作为新的特征输入到LR模型训练。\n",
    "'''\n",
    "\n",
    "# 使用lr训练gbdt的特征组合\n",
    "print('使用逻辑回归训练GBDT组合特征的结果')\n",
    "lr.fit(X_lr_one_hot, y_train_lr)\n",
    "# lr.fit(X_lr_one_hot, y_train)"
   ]
  },
  {
   "cell_type": "code",
   "execution_count": 96,
   "metadata": {},
   "outputs": [
    {
     "name": "stdout",
     "output_type": "stream",
     "text": [
      "Average MAE = 6.164671750208347\n"
     ]
    }
   ],
   "source": [
    "# 用训练好的LR模型多X_test做预测\n",
    "# y_pred_grd_lm = lr.predict_proba(one_hot.transform(gbdt.apply(X_test)[:, :, 0]))[:, 1]  # 获取测试集正样本的概率\n",
    "y_pred_grd_lm = lr.predict(one_hot.transform(gbdt.apply(X_test)[:, :]))[:]  # 获取测试集正样本的概率\n",
    "\n",
    "sum_of_absolute_err = sum(abs(y_pred_grd_lm - y_test))\n",
    "num_of_test_case = len(y_test)\n",
    "\n",
    "print('Average MAE = ' + str(sum_of_absolute_err / num_of_test_case))"
   ]
  },
  {
   "cell_type": "code",
   "execution_count": 81,
   "metadata": {},
   "outputs": [],
   "source": [
    "\n",
    "# y_pre= lr.predict(one_hot.transform(gbdt.apply(X_test)[:, :, 0]))  # 获取测试集正样本的概率\n",
    " \n",
    "# y_pro= lr.predict_proba(one_hot.transform(gbdt.apply(X_test)[:, :, 0]))[:, 1]  # 获取测试集正样本的概率\n",
    "\n"
   ]
  },
  {
   "cell_type": "code",
   "execution_count": 32,
   "metadata": {},
   "outputs": [],
   "source": [
    "# from sklearn import metrics\n",
    "\n",
    "\n",
    "# print(\"AUC Score :\",(metrics.roc_auc_score(y_test, y_pro)))   \n",
    "# print(\"Accuracy :\",(metrics.accuracy_score(y_test, y_pre)))  "
   ]
  },
  {
   "cell_type": "code",
   "execution_count": null,
   "metadata": {},
   "outputs": [],
   "source": []
  }
 ],
 "metadata": {
  "kernelspec": {
   "display_name": "Python 3",
   "language": "python",
   "name": "python3"
  },
  "language_info": {
   "codemirror_mode": {
    "name": "ipython",
    "version": 3
   },
   "file_extension": ".py",
   "mimetype": "text/x-python",
   "name": "python",
   "nbconvert_exporter": "python",
   "pygments_lexer": "ipython3",
   "version": "3.6.8"
  }
 },
 "nbformat": 4,
 "nbformat_minor": 2
}
